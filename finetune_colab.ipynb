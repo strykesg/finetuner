{
 "cells": [
  {
   "cell_type": "markdown",
   "metadata": {},
   "source": [
    "# 🚀 Financial Model Fine-Tuning in Google Colab\n",
    "\n",
    "Train the ServiceNow/Apriel-Nemotron-15B-Thinker model on financial datasets using Unsloth's optimized framework.\n",
    "\n",
    "**⚠️ Important Notes:**\n",
    "- This notebook requires Colab Pro/Pro+ for sufficient GPU memory\n",
    "- A100 GPU recommended (V100 may work with smaller batch sizes)\n",
    "- Training time: 8-24 hours depending on GPU\n",
    "- Model size: ~50GB (including datasets)\n",
    "\n",
    "## 📋 Requirements\n",
    "- Colab Pro/Pro+ subscription\n",
    "- A100 GPU (preferably)\n",
    "- High RAM runtime\n",
    "- ~100GB storage space"
   ]
  },
  {
   "cell_type": "markdown",
   "metadata": {},
   "source": [
    "## Step 1: Environment Setup"
   ]
  },
  {
   "cell_type": "code",
   "execution_count": null,
   "metadata": {},
   "outputs": [],
   "source": [
    "# Check GPU availability\n",
    "!nvidia-smi\n",
    "\n",
    "# Check available memory\n",
    "!free -h"
   ]
  },
  {
   "cell_type": "code",
   "execution_count": null,
   "metadata": {},
   "outputs": [],
   "source": [
    "# Install system dependencies\n",
    "!apt-get update && apt-get install -y \\\n",
    "    build-essential \\\n",
    "    git \\\n",
    "    python3-dev"
   ]
  },
  {
   "cell_type": "code",
   "execution_count": null,
   "metadata": {},
   "outputs": [],
   "source": [
    "# Clone the repository\n",
    "!git clone https://github.com/strykesg/finetuner.git\n",
    "%cd finetuner"
   ]
  },
  {
   "cell_type": "code",
   "execution_count": null,
   "metadata": {},
   "outputs": [],
   "source": [
    "# Install Python dependencies\n",
    "!pip install torch torchvision torchaudio --index-url https://download.pytorch.org/whl/cu121\n",
    "!pip install -r requirements.txt"
   ]
  },
  {
   "cell_type": "code",
   "execution_count": null,
   "metadata": {},
   "outputs": [],
   "source": [
    "# Verify installation\n",
    "import torch\n",
    "print(f\"PyTorch version: {torch.__version__}\")\n",
    "print(f\"CUDA available: {torch.cuda.is_available()}\")\n",
    "if torch.cuda.is_available():\n",
    "    print(f\"GPU: {torch.cuda.get_device_name(0)}\")\n",
    "    print(f\"GPU Memory: {torch.cuda.get_device_properties(0).total_memory / 1024**3:.1f} GB\")\n",
    "\n",
    "try:\n",
    "    from unsloth import FastLanguageModel\n",
    "    print(\"✅ Unsloth available\")\n",
    "except ImportError as e:\n",
    "    print(f\"❌ Unsloth error: {e}\")"
   ]
  },
  {
   "cell_type": "markdown",
   "metadata": {},
   "source": [
    "## Step 2: Dataset Preparation"
   ]
  },
  {
   "cell_type": "code",
   "execution_count": null,
   "metadata": {},
   "outputs": [],
   "source": [
    "# Create necessary directories\n",
    "!mkdir -p datasets/alpaca datasets/sharegpt random\n",
    "\n",
    "# Copy sample datasets (you can upload your own)\n",
    "!cp datasets/alpaca/sample_alpaca.json random/\n",
    "!cp datasets/sharegpt/sample_sharegpt.json random/"
   ]
  },
  {
   "cell_type": "code",
   "execution_count": null,
   "metadata": {},
   "outputs": [],
   "source": [
    "# Convert datasets\n",
    "!python convert_datasets.py"
   ]
  },
  {
   "cell_type": "markdown",
   "metadata": {},
   "source": [
    "## Step 3: Memory Optimization Check"
   ]
  },
  {
   "cell_type": "code",
   "execution_count": null,
   "metadata": {},
   "outputs": [],
   "source": [
    "# Check if we can load the model\n",
    "try:\n",
    "    from unsloth import FastLanguageModel\n",
    "    print(\"Testing model loading...\")\n",
    "\n",
    "    # Test with smaller model first\n",
    "    model, tokenizer = FastLanguageModel.from_pretrained(\n",
    "        model_name=\"unsloth/Mistral-7B-Instruct-v0.3-bnb-4bit\",\n",
    "        max_seq_length=2048,  # Smaller for testing\n",
    "        dtype=None,\n",
    "        load_in_4bit=True,\n",
    "    )\n",
    "    print(\"✅ Smaller model loaded successfully\")\n",
    "\n",
    "    # Clean up\n",
    "    del model, tokenizer\n",
    "    torch.cuda.empty_cache()\n",
    "\n",
    "except Exception as e:\n",
    "    print(f\"❌ Model loading failed: {e}\")\n",
    "    print(\"Try using a smaller model or different quantization\")"
   ]
  },
  {
   "cell_type": "markdown",
   "metadata": {},
   "source": [
    "## Step 4: Training Configuration"
   ]
  },
  {
   "cell_type": "code",
   "execution_count": null,
   "metadata": {},
   "outputs": [],
   "source": [
    "# Colab-optimized training script\n",
    "%%writefile train_colab.py\n",
    "\n",
    "# Colab-optimized version with smaller parameters\n",
    "import os\n",
    "import torch\n",
    "from datasets import load_dataset\n",
    "from transformers import TrainingArguments\n",
    "from trl import SFTTrainer\n",
    "from unsloth import FastLanguageModel, is_bfloat16_supported\n",
    "\n",
    "def main():\n",
    "    # Colab-friendly model (smaller)\n",
    "    model_name = \"unsloth/Mistral-7B-Instruct-v0.3-bnb-4bit\"  # Smaller than Nemotron-15B\n",
    "    output_dir = \"./colab_finance_model\"\n",
    "\n",
    "    print(\"Loading model...\")\n",
    "    model, tokenizer = FastLanguageModel.from_pretrained(\n",
    "        model_name=model_name,\n",
    "        max_seq_length=2048,  # Reduced for Colab\n",
    "        dtype=None,\n",
    "        load_in_4bit=True,\n",
    "    )\n",
    "\n",
    "    # Apply PEFT\n",
    "    model = FastLanguageModel.get_peft_model(\n",
    "        model,\n",
    "        r=16,  # Smaller LoRA rank for Colab\n",
    "        target_modules=[\"q_proj\", \"k_proj\", \"v_proj\", \"o_proj\", \"gate_proj\", \"up_proj\", \"down_proj\"],\n",
    "        lora_alpha=16,\n",
    "        lora_dropout=0,\n",
    "        bias=\"none\",\n",
    "        use_gradient_checkpointing=\"unsloth\",\n",
    "        random_state=3407,\n",
    "    )\n",
    "\n",
    "    # Load datasets\n",
    "    print(\"Loading datasets...\")\n",
    "    try:\n",
    "        train_dataset = load_dataset(\"json\", data_files=\"datasets/alpaca/*.jsonl\", split=\"train\")\n",
    "        print(f\"Loaded {len(train_dataset)} training examples\")\n",
    "    except:\n",
    "        print(\"No datasets found, using sample data...\")\n",
    "        # Create sample dataset\n",
    "        sample_data = [\n",
    "            {\n",
    "                \"instruction\": \"What is compound interest?\",\n",
    "                \"input\": \"\",\n",
    "                \"output\": \"Compound interest is the interest on a loan or deposit calculated based on both the initial principal and the accumulated interest from previous periods.\"\n",
    "            }\n",
    "        ]\n",
    "        import json\n",
    "        with open(\"sample_data.jsonl\", \"w\") as f:\n",
    "            for item in sample_data:\n",
    "                f.write(json.dumps(item) + \"\\n\")\n",
    "        train_dataset = load_dataset(\"json\", data_files=\"sample_data.jsonl\", split=\"train\")\n",
    "\n",
    "    # Training arguments optimized for Colab\n",
    "    training_args = TrainingArguments(\n",
    "        per_device_train_batch_size=1,  # Very small for Colab\n",
    "        gradient_accumulation_steps=4,   # Effective batch size of 4\n",
    "        warmup_steps=5,\n",
    "        num_train_epochs=1,  # Start with 1 epoch\n",
    "        learning_rate=2e-4,\n",
    "        fp16=not is_bfloat16_supported(),\n",
    "        bf16=is_bfloat16_supported(),\n",
    "        logging_steps=1,\n",
    "        optim=\"adamw_8bit\",\n",
    "        weight_decay=0.01,\n",
    "        lr_scheduler_type=\"linear\",\n",
    "        seed=3407,\n",
    "        output_dir=output_dir,\n",
    "        save_steps=50,  # Save frequently in case of disconnection\n",
    "        save_total_limit=2,\n",
    "    )\n",
    "\n",
    "    # Initialize trainer\n",
    "    trainer = SFTTrainer(\n",
    "        model=model,\n",
    "        tokenizer=tokenizer,\n",
    "        train_dataset=train_dataset,\n",
    "        dataset_text_field=\"text\",\n",
    "        max_seq_length=2048,\n",
    "        dataset_num_proc=2,\n",
    "        packing=False,\n",
    "        args=training_args,\n",
    "    )\n",
    "\n",
    "    # Train\n",
    "    print(\"Starting training...\")\n",
    "    trainer.train()\n",
    "\n",
    "    # Save\n",
    "    print(f\"Training complete! Saving to {output_dir}\")\n",
    "    model.save_pretrained(output_dir)\n",
    "    tokenizer.save_pretrained(output_dir)\n",
    "\n",
    "    print(\"✅ Model saved successfully!\")\n",
    "\n",
    "if __name__ == \"__main__\":\n",
    "    main()\n"
   ]
  },
  {
   "cell_type": "markdown",
   "metadata": {},
   "source": [
    "## Step 5: Start Training"
   ]
  },
  {
   "cell_type": "code",
   "execution_count": null,
   "metadata": {},
   "outputs": [],
   "source": [
    "# Start training with Colab optimizations\n",
    "!python train_colab.py"
   ]
  },
  {
   "cell_type": "markdown",
   "metadata": {},
   "source": [
    "## Step 6: Test the Trained Model"
   ]
  },
  {
   "cell_type": "code",
   "execution_count": null,
   "metadata": {},
   "outputs": [],
   "source": [
    "# Test the trained model\n",
    "from unsloth import FastLanguageModel\n",
    "import torch\n",
    "\n",
    "model, tokenizer = FastLanguageModel.from_pretrained(\n",
    "    model_name=\"./colab_finance_model\",\n",
    "    max_seq_length=2048,\n",
    "    dtype=None,\n",
    "    load_in_4bit=True,\n",
    ")\n",
    "\n",
    "FastLanguageModel.for_inference(model)\n",
    "\n",
    "# Test prompt\n",
    "messages = [\n",
    "    {\"role\": \"system\", \"content\": \"You are a financial trading assistant.\"},\n",
    "    {\"role\": \"user\", \"content\": \"What is compound interest?\"}\n",
    "]\n",
    "\n",
    "inputs = tokenizer.apply_chat_template(messages, tokenize=True, return_tensors=\"pt\")\n",
    "outputs = model.generate(\n",
    "    input_ids=inputs.to(\"cuda\"),\n",
    "    max_new_tokens=256,\n",
    "    temperature=0.7,\n",
    "    do_sample=True\n",
    ")\n",
    "\n",
    "response = tokenizer.decode(outputs[0], skip_special_tokens=True)\n",
    "print(\"Model Response:\")\n",
    "print(response)"
   ]
  },
  {
   "cell_type": "markdown",
   "metadata": {},
   "source": [
    "## Step 7: Download Results"
   ]
  },
  {
   "cell_type": "code",
   "execution_count": null,
   "metadata": {},
   "outputs": [],
   "source": [
    "# Zip the model for download\n",
    "!zip -r colab_finance_model.zip colab_finance_model/\n",
    "\n",
    "# Download link\n",
    "from google.colab import files\n",
    "files.download('colab_finance_model.zip')"
   ]
  },
  {
   "cell_type": "markdown",
   "metadata": {},
   "source": [
    "# 📋 Colab Training Notes\n",
    "\n",
    "## Memory Issues?\n",
    "- Reduce `max_seq_length` to 1024\n",
    "- Use smaller model: `unsloth/Mistral-7B-Instruct-v0.3-bnb-4bit`\n",
    "- Reduce batch size and increase gradient accumulation\n",
    "\n",
    "## Time Limits?\n",
    "- Save checkpoints frequently\n",
    "- Use resumable training\n",
    "- Consider using Colab Pro+ for longer sessions\n",
    "\n",
    "## Storage Issues?\n",
    "- Clear cache: `rm -rf ~/.cache/huggingface/datasets/`\n",
    "- Use smaller datasets\n",
    "- Delete intermediate files\n",
    "\n",
    "## Success Tips\n",
    "- Start with small test runs\n",
    "- Monitor GPU memory usage\n",
    "- Save frequently to avoid losing progress\n",
    "- Use A100 GPU when available"
   ]
  }
 ],
 "metadata": {
  "accelerator": "GPU",
  "colab": {
   "gpuType": "A100",
   "machine_shape": "hm",
   "provenance": []
  },
  "kernelspec": {
   "display_name": "Python 3",
   "name": "python3"
  },
  "language_info": {
   "name": "python"
  }
 },
 "nbformat": 4,
 "nbformat_minor": 0
}
